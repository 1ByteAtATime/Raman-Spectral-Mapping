{
 "cells": [
  {
   "cell_type": "code",
   "execution_count": 1,
   "metadata": {},
   "outputs": [],
   "source": [
    "import pandas as pd\n",
    "import numpy as np\n",
    "from IPython.display import set_matplotlib_formats\n",
    "set_matplotlib_formats('svg')\n",
    "import matplotlib.pyplot as plt\n",
    "from matplotlib import rcParams\n",
    "import seaborn as sns\n",
    "from matplotlib.widgets import Cursor, Slider, Button, RadioButtons\n",
    "import matplotlib.cm as cm # matplotlib's color map library"
   ]
  },
  {
   "cell_type": "code",
   "execution_count": 2,
   "metadata": {},
   "outputs": [],
   "source": [
    "data = pd.read_csv('12032020a.txt', sep='\\t', header=None)"
   ]
  },
  {
   "cell_type": "code",
   "execution_count": 3,
   "metadata": {},
   "outputs": [
    {
     "name": "stderr",
     "output_type": "stream",
     "text": [
      "C:\\Users\\sass856\\Anaconda3\\lib\\site-packages\\pandas\\core\\indexing.py:671: SettingWithCopyWarning: \n",
      "A value is trying to be set on a copy of a slice from a DataFrame\n",
      "\n",
      "See the caveats in the documentation: https://pandas.pydata.org/pandas-docs/stable/user_guide/indexing.html#returning-a-view-versus-a-copy\n",
      "  self._setitem_with_indexer(indexer, value)\n"
     ]
    }
   ],
   "source": [
    "data[0].iloc[0] = 'x'\n",
    "data[1].iloc[0] = 'y'\n",
    "data.columns = data.iloc[0]\n",
    "data = data.drop(0).reset_index(drop='True')"
   ]
  },
  {
   "cell_type": "code",
   "execution_count": 4,
   "metadata": {},
   "outputs": [
    {
     "data": {
      "text/html": [
       "<div>\n",
       "<style scoped>\n",
       "    .dataframe tbody tr th:only-of-type {\n",
       "        vertical-align: middle;\n",
       "    }\n",
       "\n",
       "    .dataframe tbody tr th {\n",
       "        vertical-align: top;\n",
       "    }\n",
       "\n",
       "    .dataframe thead th {\n",
       "        text-align: right;\n",
       "    }\n",
       "</style>\n",
       "<table border=\"1\" class=\"dataframe\">\n",
       "  <thead>\n",
       "    <tr style=\"text-align: right;\">\n",
       "      <th></th>\n",
       "      <th>x</th>\n",
       "      <th>y</th>\n",
       "      <th>-228.0</th>\n",
       "      <th>-227.0</th>\n",
       "      <th>-226.0</th>\n",
       "      <th>-225.0</th>\n",
       "      <th>-224.0</th>\n",
       "      <th>-222.0</th>\n",
       "      <th>-221.0</th>\n",
       "      <th>-220.0</th>\n",
       "      <th>...</th>\n",
       "      <th>1715.0</th>\n",
       "      <th>1716.0</th>\n",
       "      <th>1717.0</th>\n",
       "      <th>1718.0</th>\n",
       "      <th>1718.0</th>\n",
       "      <th>1719.0</th>\n",
       "      <th>1720.0</th>\n",
       "      <th>1721.0</th>\n",
       "      <th>1722.0</th>\n",
       "      <th>1722.0</th>\n",
       "    </tr>\n",
       "  </thead>\n",
       "  <tbody>\n",
       "    <tr>\n",
       "      <th>0</th>\n",
       "      <td>0</td>\n",
       "      <td>0</td>\n",
       "      <td>1603.0</td>\n",
       "      <td>1600.0</td>\n",
       "      <td>1601.0</td>\n",
       "      <td>1602.0</td>\n",
       "      <td>1606.0</td>\n",
       "      <td>1604.0</td>\n",
       "      <td>1599.0</td>\n",
       "      <td>1602.0</td>\n",
       "      <td>...</td>\n",
       "      <td>1604.0</td>\n",
       "      <td>1603.0</td>\n",
       "      <td>1603.0</td>\n",
       "      <td>1603.0</td>\n",
       "      <td>1603.0</td>\n",
       "      <td>1599.0</td>\n",
       "      <td>1600.0</td>\n",
       "      <td>1602.0</td>\n",
       "      <td>1607.0</td>\n",
       "      <td>1604.0</td>\n",
       "    </tr>\n",
       "    <tr>\n",
       "      <th>1</th>\n",
       "      <td>0</td>\n",
       "      <td>0.002</td>\n",
       "      <td>1603.0</td>\n",
       "      <td>1600.0</td>\n",
       "      <td>1601.0</td>\n",
       "      <td>1600.0</td>\n",
       "      <td>1603.0</td>\n",
       "      <td>1606.0</td>\n",
       "      <td>1604.0</td>\n",
       "      <td>1603.0</td>\n",
       "      <td>...</td>\n",
       "      <td>1617.0</td>\n",
       "      <td>1611.0</td>\n",
       "      <td>1614.0</td>\n",
       "      <td>1614.0</td>\n",
       "      <td>1614.0</td>\n",
       "      <td>1616.0</td>\n",
       "      <td>1615.0</td>\n",
       "      <td>1615.0</td>\n",
       "      <td>1616.0</td>\n",
       "      <td>1613.0</td>\n",
       "    </tr>\n",
       "    <tr>\n",
       "      <th>2</th>\n",
       "      <td>0</td>\n",
       "      <td>0.004</td>\n",
       "      <td>1605.0</td>\n",
       "      <td>1598.0</td>\n",
       "      <td>1604.0</td>\n",
       "      <td>1601.0</td>\n",
       "      <td>1601.0</td>\n",
       "      <td>1605.0</td>\n",
       "      <td>1602.0</td>\n",
       "      <td>1602.0</td>\n",
       "      <td>...</td>\n",
       "      <td>1616.0</td>\n",
       "      <td>1614.0</td>\n",
       "      <td>1609.0</td>\n",
       "      <td>1613.0</td>\n",
       "      <td>1617.0</td>\n",
       "      <td>1617.0</td>\n",
       "      <td>1611.0</td>\n",
       "      <td>1612.0</td>\n",
       "      <td>1611.0</td>\n",
       "      <td>1619.0</td>\n",
       "    </tr>\n",
       "    <tr>\n",
       "      <th>3</th>\n",
       "      <td>0</td>\n",
       "      <td>0.006</td>\n",
       "      <td>1602.0</td>\n",
       "      <td>1605.0</td>\n",
       "      <td>1600.0</td>\n",
       "      <td>1603.0</td>\n",
       "      <td>1600.0</td>\n",
       "      <td>1596.0</td>\n",
       "      <td>1598.0</td>\n",
       "      <td>1602.0</td>\n",
       "      <td>...</td>\n",
       "      <td>1611.0</td>\n",
       "      <td>1615.0</td>\n",
       "      <td>1614.0</td>\n",
       "      <td>1613.0</td>\n",
       "      <td>1613.0</td>\n",
       "      <td>1611.0</td>\n",
       "      <td>1612.0</td>\n",
       "      <td>1612.0</td>\n",
       "      <td>1617.0</td>\n",
       "      <td>1609.0</td>\n",
       "    </tr>\n",
       "    <tr>\n",
       "      <th>4</th>\n",
       "      <td>0</td>\n",
       "      <td>0.008</td>\n",
       "      <td>1606.0</td>\n",
       "      <td>1608.0</td>\n",
       "      <td>1603.0</td>\n",
       "      <td>1606.0</td>\n",
       "      <td>1604.0</td>\n",
       "      <td>1601.0</td>\n",
       "      <td>1600.0</td>\n",
       "      <td>1601.0</td>\n",
       "      <td>...</td>\n",
       "      <td>1614.0</td>\n",
       "      <td>1620.0</td>\n",
       "      <td>1615.0</td>\n",
       "      <td>1612.0</td>\n",
       "      <td>1621.0</td>\n",
       "      <td>1615.0</td>\n",
       "      <td>1615.0</td>\n",
       "      <td>1615.0</td>\n",
       "      <td>1614.0</td>\n",
       "      <td>1615.0</td>\n",
       "    </tr>\n",
       "  </tbody>\n",
       "</table>\n",
       "<p>5 rows × 2002 columns</p>\n",
       "</div>"
      ],
      "text/plain": [
       "0  x      y  -228.0  -227.0  -226.0  -225.0  -224.0  -222.0  -221.0  -220.0  \\\n",
       "0  0      0  1603.0  1600.0  1601.0  1602.0  1606.0  1604.0  1599.0  1602.0   \n",
       "1  0  0.002  1603.0  1600.0  1601.0  1600.0  1603.0  1606.0  1604.0  1603.0   \n",
       "2  0  0.004  1605.0  1598.0  1604.0  1601.0  1601.0  1605.0  1602.0  1602.0   \n",
       "3  0  0.006  1602.0  1605.0  1600.0  1603.0  1600.0  1596.0  1598.0  1602.0   \n",
       "4  0  0.008  1606.0  1608.0  1603.0  1606.0  1604.0  1601.0  1600.0  1601.0   \n",
       "\n",
       "0  ...  1715.0  1716.0  1717.0  1718.0  1718.0  1719.0  1720.0  1721.0  \\\n",
       "0  ...  1604.0  1603.0  1603.0  1603.0  1603.0  1599.0  1600.0  1602.0   \n",
       "1  ...  1617.0  1611.0  1614.0  1614.0  1614.0  1616.0  1615.0  1615.0   \n",
       "2  ...  1616.0  1614.0  1609.0  1613.0  1617.0  1617.0  1611.0  1612.0   \n",
       "3  ...  1611.0  1615.0  1614.0  1613.0  1613.0  1611.0  1612.0  1612.0   \n",
       "4  ...  1614.0  1620.0  1615.0  1612.0  1621.0  1615.0  1615.0  1615.0   \n",
       "\n",
       "0  1722.0  1722.0  \n",
       "0  1607.0  1604.0  \n",
       "1  1616.0  1613.0  \n",
       "2  1611.0  1619.0  \n",
       "3  1617.0  1609.0  \n",
       "4  1614.0  1615.0  \n",
       "\n",
       "[5 rows x 2002 columns]"
      ]
     },
     "execution_count": 4,
     "metadata": {},
     "output_type": "execute_result"
    }
   ],
   "source": [
    "data.head()"
   ]
  },
  {
   "cell_type": "code",
   "execution_count": 5,
   "metadata": {},
   "outputs": [
    {
     "data": {
      "text/plain": [
       "(5776, 2002)"
      ]
     },
     "execution_count": 5,
     "metadata": {},
     "output_type": "execute_result"
    }
   ],
   "source": [
    "data.shape"
   ]
  },
  {
   "cell_type": "code",
   "execution_count": 6,
   "metadata": {},
   "outputs": [],
   "source": [
    "# values is wavenumber to plot\n",
    "Z = data.pivot_table(index='x', columns='y', values=260).T.values\n",
    "\n",
    "X_unique = np.sort(data['x'].unique())\n",
    "Y_unique = np.sort(data['y'].unique())\n",
    "X, Y = np.meshgrid(X_unique, Y_unique)"
   ]
  },
  {
   "cell_type": "code",
   "execution_count": 7,
   "metadata": {},
   "outputs": [],
   "source": [
    "dataT = data.copy()\n",
    "dataT = dataT.drop(['x', 'y'], axis=1)\n",
    "dataT = dataT.T"
   ]
  },
  {
   "cell_type": "code",
   "execution_count": 8,
   "metadata": {},
   "outputs": [],
   "source": [
    "%matplotlib tk\n",
    "\n",
    "wavenumber = [0]\n",
    "pos=[[0,0]]\n",
    "position = [[0,0]]\n",
    "\n",
    "fig, ax_list = plt.subplots(1, 2)\n",
    "rcParams['figure.figsize'] = 12, 8 # sets plot size\n",
    "\n",
    "ax_list[0].contourf(X,Y,Z, 15, cmap=cm.Blues)\n",
    "ax_list[1].plot(dataT.index, dataT[position[-1]], color = 'tab:blue')\n",
    "ax_list[1].axvline(x=wavenumber[-1], color = 'black', linestyle = 'dashed')\n",
    "txt = fig.text(.8, .9, wavenumber[-1], fontsize=12)\n",
    "\n",
    "def onclick(event):\n",
    "    ix, iy = event.xdata, event.ydata\n",
    "    global txt\n",
    "    \n",
    "    if event.inaxes == ax_list[1]:\n",
    "        wavenumber.append(round(ix))           \n",
    "        Z = data.pivot_table(index='x', columns='y', values=wavenumber[-1]).T.values\n",
    "        #replot\n",
    "        txt.remove()\n",
    "        txt = fig.text(.8, .9, wavenumber[-1], fontsize=12)\n",
    "        ax_list[0].cla()\n",
    "        ax_list[0].contourf(X,Y,Z, 15, cmap=cm.Blues)\n",
    "        ax_list[1].cla()\n",
    "        ax_list[1].plot(dataT.index, dataT[position[-1]], color = 'tab:blue')\n",
    "        ax_list[1].axvline(x=wavenumber[-1], color = 'black', linestyle = 'dashed')\n",
    "        plt.draw() #redraw\n",
    "            \n",
    "    if event.inaxes == ax_list[0]:\n",
    "        pos.append([min(X[0], key=lambda x:abs(x-ix)), min(Y.T[0], key=lambda x:abs(x-iy))])\n",
    "        position.append(data.loc[(data['x'] == pos[-1][0]) & (data['y'] == pos[-1][1])].index[0])\n",
    "        #replot\n",
    "        ax_list[1].cla()\n",
    "        ax_list[1].plot(dataT.index, dataT[position[-1]], color = 'tab:blue')\n",
    "        ax_list[1].axvline(x=wavenumber[-1], color = 'black', linestyle = 'dashed')\n",
    "        plt.draw() #redraw"
   ]
  },
  {
   "cell_type": "code",
   "execution_count": 9,
   "metadata": {},
   "outputs": [],
   "source": [
    "cid = fig.canvas.mpl_connect('button_press_event', onclick)"
   ]
  },
  {
   "cell_type": "code",
   "execution_count": 10,
   "metadata": {},
   "outputs": [],
   "source": [
    "#fig.canvas.mpl_disconnect(cid)"
   ]
  },
  {
   "cell_type": "code",
   "execution_count": 11,
   "metadata": {},
   "outputs": [],
   "source": [
    "#line cuts\n",
    "#spatially resolved spectra\n"
   ]
  }
 ],
 "metadata": {
  "kernelspec": {
   "display_name": "Python 3",
   "language": "python",
   "name": "python3"
  },
  "language_info": {
   "codemirror_mode": {
    "name": "ipython",
    "version": 3
   },
   "file_extension": ".py",
   "mimetype": "text/x-python",
   "name": "python",
   "nbconvert_exporter": "python",
   "pygments_lexer": "ipython3",
   "version": "3.8.3"
  }
 },
 "nbformat": 4,
 "nbformat_minor": 4
}
